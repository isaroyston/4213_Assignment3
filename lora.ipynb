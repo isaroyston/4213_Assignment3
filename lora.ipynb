{
 "cells": [
  {
   "cell_type": "markdown",
   "id": "03b36472",
   "metadata": {},
   "source": [
    "# LoRA Fine-tuning: DistilBERT on Financial PhraseBank\n",
    "\n",
    "This notebook implements parameter-efficient fine-tuning using LoRA (Low-Rank Adaptation) for sentiment classification on financial news."
   ]
  },
  {
   "cell_type": "code",
   "execution_count": 1,
   "id": "158854f5",
   "metadata": {},
   "outputs": [
    {
     "name": "stderr",
     "output_type": "stream",
     "text": [
      "c:\\Users\\admin\\Desktop\\repos\\4213 Assignment 3\\4213_Assignment3\\venv\\Lib\\site-packages\\tqdm\\auto.py:21: TqdmWarning: IProgress not found. Please update jupyter and ipywidgets. See https://ipywidgets.readthedocs.io/en/stable/user_install.html\n",
      "  from .autonotebook import tqdm as notebook_tqdm\n"
     ]
    }
   ],
   "source": [
    "import torch\n",
    "from datasets import load_from_disk\n",
    "from transformers import (\n",
    "    AutoModelForSequenceClassification,\n",
    "    TrainingArguments, \n",
    "    Trainer\n",
    ")\n",
    "from peft import LoraConfig, get_peft_model, TaskType\n",
    "from sklearn.metrics import accuracy_score, f1_score, precision_score, recall_score\n",
    "import numpy as np\n",
    "import json"
   ]
  },
  {
   "cell_type": "code",
   "execution_count": 2,
   "id": "012488f5",
   "metadata": {},
   "outputs": [],
   "source": [
    "# Load preprocessed datasets\n",
    "train_dataset = load_from_disk('processed_data/train')\n",
    "val_dataset = load_from_disk('processed_data/validation')\n",
    "test_dataset = load_from_disk('processed_data/test')\n",
    "\n",
    "# Load label mappings\n",
    "with open('processed_data/label_mappings.json', 'r') as f:\n",
    "    label_mappings = json.load(f)\n",
    "    id2label = {int(k): v for k, v in label_mappings['id2label'].items()}\n",
    "    label2id = label_mappings['label2id']"
   ]
  },
  {
   "cell_type": "code",
   "execution_count": 3,
   "id": "948293dc",
   "metadata": {},
   "outputs": [
    {
     "name": "stderr",
     "output_type": "stream",
     "text": [
      "Some weights of DistilBertForSequenceClassification were not initialized from the model checkpoint at distilbert-base-uncased and are newly initialized: ['classifier.bias', 'classifier.weight', 'pre_classifier.bias', 'pre_classifier.weight']\n",
      "You should probably TRAIN this model on a down-stream task to be able to use it for predictions and inference.\n"
     ]
    },
    {
     "name": "stdout",
     "output_type": "stream",
     "text": [
      "Using device: cpu\n"
     ]
    }
   ],
   "source": [
    "# Load base model\n",
    "model = AutoModelForSequenceClassification.from_pretrained(\n",
    "    \"distilbert-base-uncased\",\n",
    "    num_labels=3,\n",
    "    id2label=id2label,\n",
    "    label2id=label2id\n",
    ")\n",
    "\n",
    "# Check device\n",
    "device = torch.device(\"cuda\" if torch.cuda.is_available() else \"cpu\")\n",
    "print(f\"Using device: {device}\")"
   ]
  },
  {
   "cell_type": "code",
   "execution_count": 4,
   "id": "49e3591f",
   "metadata": {},
   "outputs": [
    {
     "name": "stdout",
     "output_type": "stream",
     "text": [
      "Before LoRA:\n",
      "  Total params: 66,955,779\n",
      "  Trainable params: 66,955,779\n",
      "  Trainable %: 100.00%\n"
     ]
    }
   ],
   "source": [
    "# Check parameters BEFORE LoRA\n",
    "total_params_before = sum(p.numel() for p in model.parameters())\n",
    "trainable_params_before = sum(p.numel() for p in model.parameters() if p.requires_grad)\n",
    "\n",
    "print(f\"Before LoRA:\")\n",
    "print(f\"  Total params: {total_params_before:,}\")\n",
    "print(f\"  Trainable params: {trainable_params_before:,}\")\n",
    "print(f\"  Trainable %: {100 * trainable_params_before / total_params_before:.2f}%\")"
   ]
  },
  {
   "cell_type": "code",
   "execution_count": 5,
   "id": "80058f7d",
   "metadata": {},
   "outputs": [
    {
     "name": "stdout",
     "output_type": "stream",
     "text": [
      "\n",
      "LoRA Configuration:\n",
      "  Rank (r): 8\n",
      "  Alpha: 16\n",
      "  Target modules: {'q_lin', 'v_lin'}\n"
     ]
    }
   ],
   "source": [
    "# Configure LoRA\n",
    "lora_config = LoraConfig(\n",
    "    task_type=TaskType.SEQ_CLS,\n",
    "    r=8,                              # Rank of low-rank matrices\n",
    "    lora_alpha=16,                    # Scaling factor\n",
    "    lora_dropout=0.1,                 # Dropout probability\n",
    "    bias=\"none\",\n",
    "    target_modules=[\"q_lin\", \"v_lin\"], # Target attention layers in DistilBERT\n",
    "    inference_mode=False\n",
    ")\n",
    "\n",
    "print(f\"\\nLoRA Configuration:\")\n",
    "print(f\"  Rank (r): {lora_config.r}\")\n",
    "print(f\"  Alpha: {lora_config.lora_alpha}\")\n",
    "print(f\"  Target modules: {lora_config.target_modules}\")"
   ]
  },
  {
   "cell_type": "code",
   "execution_count": 6,
   "id": "6346b6ac",
   "metadata": {},
   "outputs": [
    {
     "name": "stdout",
     "output_type": "stream",
     "text": [
      "trainable params: 740,355 || all params: 67,696,134 || trainable%: 1.0936\n"
     ]
    }
   ],
   "source": [
    "# Apply LoRA to model (freezes base model, adds trainable adapters)\n",
    "model = get_peft_model(model, lora_config)\n",
    "model.print_trainable_parameters()"
   ]
  },
  {
   "cell_type": "code",
   "execution_count": 7,
   "id": "56d1456e",
   "metadata": {},
   "outputs": [
    {
     "name": "stdout",
     "output_type": "stream",
     "text": [
      "\n",
      "After LoRA:\n",
      "  Total params: 67,696,134\n",
      "  Trainable params: 740,355\n",
      "  Trainable %: 1.0936%\n",
      "\n",
      "✓ Only 740,355 parameters updated (LoRA adapters)\n"
     ]
    }
   ],
   "source": [
    "# Verify parameters AFTER LoRA (should be <1% trainable)\n",
    "total_params_after = sum(p.numel() for p in model.parameters())\n",
    "trainable_params_after = sum(p.numel() for p in model.parameters() if p.requires_grad)\n",
    "\n",
    "print(f\"\\nAfter LoRA:\")\n",
    "print(f\"  Total params: {total_params_after:,}\")\n",
    "print(f\"  Trainable params: {trainable_params_after:,}\")\n",
    "print(f\"  Trainable %: {100 * trainable_params_after / total_params_after:.4f}%\")\n",
    "print(f\"\\n✓ Only {trainable_params_after:,} parameters updated (LoRA adapters)\")"
   ]
  },
  {
   "cell_type": "code",
   "execution_count": 8,
   "id": "321df3df",
   "metadata": {},
   "outputs": [],
   "source": [
    "# Define metrics computation\n",
    "def compute_metrics(eval_pred):\n",
    "    predictions, labels = eval_pred\n",
    "    predictions = np.argmax(predictions, axis=1)\n",
    "    \n",
    "    accuracy = accuracy_score(labels, predictions)\n",
    "    f1_macro = f1_score(labels, predictions, average='macro')\n",
    "    f1_weighted = f1_score(labels, predictions, average='weighted')\n",
    "    precision = precision_score(labels, predictions, average='macro')\n",
    "    recall = recall_score(labels, predictions, average='macro')\n",
    "    \n",
    "    return {\n",
    "        'accuracy': accuracy,\n",
    "        'f1_macro': f1_macro,\n",
    "        'f1_weighted': f1_weighted,\n",
    "        'precision': precision,\n",
    "        'recall': recall\n",
    "    }"
   ]
  },
  {
   "cell_type": "code",
   "execution_count": 9,
   "id": "ea60b235",
   "metadata": {},
   "outputs": [],
   "source": [
    "# Training arguments\n",
    "training_args = TrainingArguments(\n",
    "    output_dir=\"./lora_results\",\n",
    "    eval_strategy=\"epoch\",\n",
    "    save_strategy=\"epoch\",\n",
    "    learning_rate=3e-4,               # Higher LR for LoRA adapters\n",
    "    per_device_train_batch_size=16,\n",
    "    per_device_eval_batch_size=16,\n",
    "    num_train_epochs=3,\n",
    "    weight_decay=0.01,\n",
    "    logging_steps=50,\n",
    "    load_best_model_at_end=True,\n",
    "    metric_for_best_model=\"f1_macro\",\n",
    "    save_total_limit=2,\n",
    "    seed=42\n",
    ")"
   ]
  },
  {
   "cell_type": "code",
   "execution_count": 10,
   "id": "5afbb1cb",
   "metadata": {},
   "outputs": [],
   "source": [
    "# Initialize Trainer\n",
    "trainer = Trainer(\n",
    "    model=model,\n",
    "    args=training_args,\n",
    "    train_dataset=train_dataset,\n",
    "    eval_dataset=val_dataset,\n",
    "    compute_metrics=compute_metrics\n",
    ")"
   ]
  },
  {
   "cell_type": "code",
   "execution_count": 11,
   "id": "7fea8306",
   "metadata": {},
   "outputs": [
    {
     "name": "stderr",
     "output_type": "stream",
     "text": [
      "c:\\Users\\admin\\Desktop\\repos\\4213 Assignment 3\\4213_Assignment3\\venv\\Lib\\site-packages\\torch\\utils\\data\\dataloader.py:666: UserWarning: 'pin_memory' argument is set as true but no accelerator is found, then device pinned memory won't be used.\n",
      "  warnings.warn(warn_msg)\n"
     ]
    },
    {
     "data": {
      "text/html": [
       "\n",
       "    <div>\n",
       "      \n",
       "      <progress value='729' max='729' style='width:300px; height:20px; vertical-align: middle;'></progress>\n",
       "      [729/729 14:46, Epoch 3/3]\n",
       "    </div>\n",
       "    <table border=\"1\" class=\"dataframe\">\n",
       "  <thead>\n",
       " <tr style=\"text-align: left;\">\n",
       "      <th>Epoch</th>\n",
       "      <th>Training Loss</th>\n",
       "      <th>Validation Loss</th>\n",
       "      <th>Accuracy</th>\n",
       "      <th>F1 Macro</th>\n",
       "      <th>F1 Weighted</th>\n",
       "      <th>Precision</th>\n",
       "      <th>Recall</th>\n",
       "    </tr>\n",
       "  </thead>\n",
       "  <tbody>\n",
       "    <tr>\n",
       "      <td>1</td>\n",
       "      <td>0.471000</td>\n",
       "      <td>0.445777</td>\n",
       "      <td>0.814433</td>\n",
       "      <td>0.806267</td>\n",
       "      <td>0.818212</td>\n",
       "      <td>0.792110</td>\n",
       "      <td>0.833785</td>\n",
       "    </tr>\n",
       "    <tr>\n",
       "      <td>2</td>\n",
       "      <td>0.345900</td>\n",
       "      <td>0.362322</td>\n",
       "      <td>0.855670</td>\n",
       "      <td>0.846684</td>\n",
       "      <td>0.856957</td>\n",
       "      <td>0.833524</td>\n",
       "      <td>0.862961</td>\n",
       "    </tr>\n",
       "    <tr>\n",
       "      <td>3</td>\n",
       "      <td>0.334200</td>\n",
       "      <td>0.355123</td>\n",
       "      <td>0.855670</td>\n",
       "      <td>0.845132</td>\n",
       "      <td>0.856344</td>\n",
       "      <td>0.828900</td>\n",
       "      <td>0.865107</td>\n",
       "    </tr>\n",
       "  </tbody>\n",
       "</table><p>"
      ],
      "text/plain": [
       "<IPython.core.display.HTML object>"
      ]
     },
     "metadata": {},
     "output_type": "display_data"
    },
    {
     "name": "stderr",
     "output_type": "stream",
     "text": [
      "c:\\Users\\admin\\Desktop\\repos\\4213 Assignment 3\\4213_Assignment3\\venv\\Lib\\site-packages\\torch\\utils\\data\\dataloader.py:666: UserWarning: 'pin_memory' argument is set as true but no accelerator is found, then device pinned memory won't be used.\n",
      "  warnings.warn(warn_msg)\n",
      "c:\\Users\\admin\\Desktop\\repos\\4213 Assignment 3\\4213_Assignment3\\venv\\Lib\\site-packages\\torch\\utils\\data\\dataloader.py:666: UserWarning: 'pin_memory' argument is set as true but no accelerator is found, then device pinned memory won't be used.\n",
      "  warnings.warn(warn_msg)\n"
     ]
    }
   ],
   "source": [
    "# Train with LoRA (only adapter parameters updated)\n",
    "train_result = trainer.train()"
   ]
  },
  {
   "cell_type": "code",
   "execution_count": 12,
   "id": "6a1f8eff",
   "metadata": {},
   "outputs": [
    {
     "name": "stderr",
     "output_type": "stream",
     "text": [
      "c:\\Users\\admin\\Desktop\\repos\\4213 Assignment 3\\4213_Assignment3\\venv\\Lib\\site-packages\\torch\\utils\\data\\dataloader.py:666: UserWarning: 'pin_memory' argument is set as true but no accelerator is found, then device pinned memory won't be used.\n",
      "  warnings.warn(warn_msg)\n"
     ]
    },
    {
     "data": {
      "text/html": [],
      "text/plain": [
       "<IPython.core.display.HTML object>"
      ]
     },
     "metadata": {},
     "output_type": "display_data"
    },
    {
     "name": "stdout",
     "output_type": "stream",
     "text": [
      "Validation Results:\n",
      "  eval_loss: 0.3623\n",
      "  eval_accuracy: 0.8557\n",
      "  eval_f1_macro: 0.8467\n",
      "  eval_f1_weighted: 0.8570\n",
      "  eval_precision: 0.8335\n",
      "  eval_recall: 0.8630\n",
      "  eval_runtime: 10.2404\n",
      "  eval_samples_per_second: 47.3610\n",
      "  eval_steps_per_second: 3.0270\n",
      "  epoch: 3.0000\n"
     ]
    }
   ],
   "source": [
    "# Evaluate on validation set\n",
    "val_results = trainer.evaluate()\n",
    "print(\"Validation Results:\")\n",
    "for key, value in val_results.items():\n",
    "    print(f\"  {key}: {value:.4f}\")"
   ]
  },
  {
   "cell_type": "code",
   "execution_count": 13,
   "id": "0dd8880c",
   "metadata": {},
   "outputs": [
    {
     "name": "stderr",
     "output_type": "stream",
     "text": [
      "c:\\Users\\admin\\Desktop\\repos\\4213 Assignment 3\\4213_Assignment3\\venv\\Lib\\site-packages\\torch\\utils\\data\\dataloader.py:666: UserWarning: 'pin_memory' argument is set as true but no accelerator is found, then device pinned memory won't be used.\n",
      "  warnings.warn(warn_msg)\n"
     ]
    },
    {
     "name": "stdout",
     "output_type": "stream",
     "text": [
      "\n",
      "Test Results:\n",
      "  eval_loss: 0.3535\n",
      "  eval_accuracy: 0.8474\n",
      "  eval_f1_macro: 0.8258\n",
      "  eval_f1_weighted: 0.8486\n",
      "  eval_precision: 0.8118\n",
      "  eval_recall: 0.8429\n",
      "  eval_runtime: 10.5021\n",
      "  eval_samples_per_second: 46.1810\n",
      "  eval_steps_per_second: 2.9520\n",
      "  epoch: 3.0000\n"
     ]
    }
   ],
   "source": [
    "# Evaluate on test set\n",
    "test_results = trainer.evaluate(test_dataset)\n",
    "print(\"\\nTest Results:\")\n",
    "for key, value in test_results.items():\n",
    "    print(f\"  {key}: {value:.4f}\")"
   ]
  },
  {
   "cell_type": "code",
   "execution_count": 14,
   "id": "ec48d468",
   "metadata": {},
   "outputs": [
    {
     "name": "stderr",
     "output_type": "stream",
     "text": [
      "c:\\Users\\admin\\Desktop\\repos\\4213 Assignment 3\\4213_Assignment3\\venv\\Lib\\site-packages\\torch\\utils\\data\\dataloader.py:666: UserWarning: 'pin_memory' argument is set as true but no accelerator is found, then device pinned memory won't be used.\n",
      "  warnings.warn(warn_msg)\n"
     ]
    },
    {
     "name": "stdout",
     "output_type": "stream",
     "text": [
      "\n",
      "Confusion Matrix:\n",
      "[[ 51   5   4]\n",
      " [ 15 248  25]\n",
      " [  3  22 112]]\n",
      "\n",
      "Classification Report:\n",
      "              precision    recall  f1-score   support\n",
      "\n",
      "    negative       0.74      0.85      0.79        60\n",
      "     neutral       0.90      0.86      0.88       288\n",
      "    positive       0.79      0.82      0.81       137\n",
      "\n",
      "    accuracy                           0.85       485\n",
      "   macro avg       0.81      0.84      0.83       485\n",
      "weighted avg       0.85      0.85      0.85       485\n",
      "\n"
     ]
    }
   ],
   "source": [
    "# Get predictions for confusion matrix\n",
    "predictions = trainer.predict(test_dataset)\n",
    "pred_labels = np.argmax(predictions.predictions, axis=1)\n",
    "true_labels = predictions.label_ids\n",
    "\n",
    "# Confusion matrix\n",
    "from sklearn.metrics import confusion_matrix, classification_report\n",
    "cm = confusion_matrix(true_labels, pred_labels)\n",
    "print(\"\\nConfusion Matrix:\")\n",
    "print(cm)\n",
    "\n",
    "print(\"\\nClassification Report:\")\n",
    "print(classification_report(true_labels, pred_labels, target_names=list(id2label.values())))"
   ]
  },
  {
   "cell_type": "code",
   "execution_count": 16,
   "id": "ee248c2e",
   "metadata": {},
   "outputs": [],
   "source": [
    "# Save LoRA model and results\n",
    "model.save_pretrained(\"./lora_model\")\n",
    "\n",
    "results_summary = {\n",
    "    'validation': val_results,\n",
    "    'test': test_results,\n",
    "    'trainable_params': trainable_params_after,\n",
    "    'total_params': total_params_after\n",
    "}\n",
    "\n",
    "with open('./lora_results/results_summary.json', 'w') as f:\n",
    "    json.dump(results_summary, f, indent=2)"
   ]
  }
 ],
 "metadata": {
  "kernelspec": {
   "display_name": "venv",
   "language": "python",
   "name": "python3"
  },
  "language_info": {
   "codemirror_mode": {
    "name": "ipython",
    "version": 3
   },
   "file_extension": ".py",
   "mimetype": "text/x-python",
   "name": "python",
   "nbconvert_exporter": "python",
   "pygments_lexer": "ipython3",
   "version": "3.11.6"
  }
 },
 "nbformat": 4,
 "nbformat_minor": 5
}
